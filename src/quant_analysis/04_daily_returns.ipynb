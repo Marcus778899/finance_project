{
 "cells": [
  {
   "cell_type": "code",
   "execution_count": 2,
   "metadata": {},
   "outputs": [
    {
     "name": "stderr",
     "output_type": "stream",
     "text": [
      "[2024-08-28 09:38:42,030][log.log][INFO] \n",
      "Executing select_data_query\n",
      "Args: ('stock_price', \"stock_id ='0050' ORDER BY Date DESC LIMIT 500\")\n",
      "Kwargs: {}\n",
      "Return: SELECT * FROM stock_price WHERE stock_id ='0050' ORDER BY Date DESC LIMIT 500;\n",
      "\n"
     ]
    }
   ],
   "source": [
    "import pandas as pd\n",
    "import module_import\n",
    "from src.quant_analysis.module_import import ETF_0050\n",
    "df = ETF_0050()"
   ]
  },
  {
   "cell_type": "markdown",
   "metadata": {},
   "source": [
    "# Daily Returns\n",
    "### $$r_t= \\frac{P_t-P_{t-1}}{P_{t-1}}$$"
   ]
  },
  {
   "cell_type": "code",
   "execution_count": 3,
   "metadata": {},
   "outputs": [
    {
     "data": {
      "text/html": [
       "<div>\n",
       "<style scoped>\n",
       "    .dataframe tbody tr th:only-of-type {\n",
       "        vertical-align: middle;\n",
       "    }\n",
       "\n",
       "    .dataframe tbody tr th {\n",
       "        vertical-align: top;\n",
       "    }\n",
       "\n",
       "    .dataframe thead th {\n",
       "        text-align: right;\n",
       "    }\n",
       "</style>\n",
       "<table border=\"1\" class=\"dataframe\">\n",
       "  <thead>\n",
       "    <tr style=\"text-align: right;\">\n",
       "      <th></th>\n",
       "      <th>Close</th>\n",
       "      <th>daily_return</th>\n",
       "      <th>weekly_return</th>\n",
       "    </tr>\n",
       "    <tr>\n",
       "      <th>Date</th>\n",
       "      <th></th>\n",
       "      <th></th>\n",
       "      <th></th>\n",
       "    </tr>\n",
       "  </thead>\n",
       "  <tbody>\n",
       "    <tr>\n",
       "      <th>2022-08-08</th>\n",
       "      <td>111.756</td>\n",
       "      <td>NaN</td>\n",
       "      <td>NaN</td>\n",
       "    </tr>\n",
       "    <tr>\n",
       "      <th>2022-08-09</th>\n",
       "      <td>111.662</td>\n",
       "      <td>-0.000841</td>\n",
       "      <td>NaN</td>\n",
       "    </tr>\n",
       "    <tr>\n",
       "      <th>2022-08-10</th>\n",
       "      <td>110.490</td>\n",
       "      <td>-0.010496</td>\n",
       "      <td>NaN</td>\n",
       "    </tr>\n",
       "    <tr>\n",
       "      <th>2022-08-11</th>\n",
       "      <td>112.505</td>\n",
       "      <td>0.018237</td>\n",
       "      <td>NaN</td>\n",
       "    </tr>\n",
       "    <tr>\n",
       "      <th>2022-08-12</th>\n",
       "      <td>113.208</td>\n",
       "      <td>0.006249</td>\n",
       "      <td>NaN</td>\n",
       "    </tr>\n",
       "    <tr>\n",
       "      <th>...</th>\n",
       "      <td>...</td>\n",
       "      <td>...</td>\n",
       "      <td>...</td>\n",
       "    </tr>\n",
       "    <tr>\n",
       "      <th>2024-08-20</th>\n",
       "      <td>183.750</td>\n",
       "      <td>0.000545</td>\n",
       "      <td>0.029412</td>\n",
       "    </tr>\n",
       "    <tr>\n",
       "      <th>2024-08-21</th>\n",
       "      <td>181.800</td>\n",
       "      <td>-0.010612</td>\n",
       "      <td>0.005809</td>\n",
       "    </tr>\n",
       "    <tr>\n",
       "      <th>2024-08-22</th>\n",
       "      <td>180.850</td>\n",
       "      <td>-0.005226</td>\n",
       "      <td>0.008364</td>\n",
       "    </tr>\n",
       "    <tr>\n",
       "      <th>2024-08-23</th>\n",
       "      <td>180.950</td>\n",
       "      <td>0.000553</td>\n",
       "      <td>-0.013359</td>\n",
       "    </tr>\n",
       "    <tr>\n",
       "      <th>2024-08-26</th>\n",
       "      <td>181.250</td>\n",
       "      <td>0.001658</td>\n",
       "      <td>-0.013068</td>\n",
       "    </tr>\n",
       "  </tbody>\n",
       "</table>\n",
       "<p>500 rows × 3 columns</p>\n",
       "</div>"
      ],
      "text/plain": [
       "              Close  daily_return  weekly_return\n",
       "Date                                            \n",
       "2022-08-08  111.756           NaN            NaN\n",
       "2022-08-09  111.662     -0.000841            NaN\n",
       "2022-08-10  110.490     -0.010496            NaN\n",
       "2022-08-11  112.505      0.018237            NaN\n",
       "2022-08-12  113.208      0.006249            NaN\n",
       "...             ...           ...            ...\n",
       "2024-08-20  183.750      0.000545       0.029412\n",
       "2024-08-21  181.800     -0.010612       0.005809\n",
       "2024-08-22  180.850     -0.005226       0.008364\n",
       "2024-08-23  180.950      0.000553      -0.013359\n",
       "2024-08-26  181.250      0.001658      -0.013068\n",
       "\n",
       "[500 rows x 3 columns]"
      ]
     },
     "execution_count": 3,
     "metadata": {},
     "output_type": "execute_result"
    }
   ],
   "source": [
    "df['daily_return'] = df['Close'].pct_change(1)\n",
    "df['weekly_return'] = df['Close'].pct_change(5)\n",
    "df"
   ]
  }
 ],
 "metadata": {
  "kernelspec": {
   "display_name": ".venv",
   "language": "python",
   "name": "python3"
  },
  "language_info": {
   "codemirror_mode": {
    "name": "ipython",
    "version": 3
   },
   "file_extension": ".py",
   "mimetype": "text/x-python",
   "name": "python",
   "nbconvert_exporter": "python",
   "pygments_lexer": "ipython3",
   "version": "3.11.0"
  }
 },
 "nbformat": 4,
 "nbformat_minor": 2
}
